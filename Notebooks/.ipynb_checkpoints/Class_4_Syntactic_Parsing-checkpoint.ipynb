{
 "cells": [
  {
   "cell_type": "code",
   "execution_count": 2,
   "metadata": {
    "collapsed": false
   },
   "outputs": [],
   "source": [
    "import pycorenlp"
   ]
  },
  {
   "cell_type": "code",
   "execution_count": 3,
   "metadata": {
    "collapsed": false
   },
   "outputs": [
    {
     "name": "stdout",
     "output_type": "stream",
     "text": [
      "(ROOT\n",
      "  (S\n",
      "    (NP (NNP Bob) (NNP Smith))\n",
      "    (VP (VBD bought)\n",
      "      (NP (DT a) (JJ red) (NN shirt))\n",
      "      (NP-TMP (NN today)))\n",
      "    (. .)))\n"
     ]
    }
   ],
   "source": [
    "from pycorenlp import StanfordCoreNLP\n",
    "nlp = StanfordCoreNLP('http://localhost:9000')\n",
    "text = ('Bob Smith bought a red shirt today.')\n",
    "output = nlp.annotate(text, properties={\n",
    "  'annotators': 'tokenize,ssplit,pos,depparse,parse,relation,openie,natlog',\n",
    "  'outputFormat': 'json'\n",
    "  })\n",
    "print(output['sentences'][0]['parse'])"
   ]
  },
  {
   "cell_type": "code",
   "execution_count": 34,
   "metadata": {
    "collapsed": false
   },
   "outputs": [
    {
     "data": {
      "text/plain": [
       "{'sentences': [{'0': {'begin': 4, 'end': 5, 'text': 'red'}, 'length': 1}]}"
      ]
     },
     "execution_count": 34,
     "metadata": {},
     "output_type": "execute_result"
    }
   ],
   "source": [
    "nlp.semgrex(text, pattern='{} <amod {}', filter=False)"
   ]
  },
  {
   "cell_type": "code",
   "execution_count": 5,
   "metadata": {
    "collapsed": false
   },
   "outputs": [
    {
     "name": "stdout",
     "output_type": "stream",
     "text": [
      "[{'subject': 'Bob Smith', 'relationSpan': [2, 3], 'subjectSpan': [0, 2], 'objectSpan': [4, 6], 'object': 'red shirt', 'relation': 'bought'}, {'subject': 'Bob Smith', 'relationSpan': [2, 3], 'subjectSpan': [0, 2], 'objectSpan': [6, 7], 'object': 'today', 'relation': 'bought shirt at_time'}, {'subject': 'Bob Smith', 'relationSpan': [2, 3], 'subjectSpan': [0, 2], 'objectSpan': [5, 6], 'object': 'shirt', 'relation': 'bought'}]\n"
     ]
    }
   ],
   "source": [
    "print(output['sentences'][0]['openie'])"
   ]
  },
  {
   "cell_type": "code",
   "execution_count": null,
   "metadata": {
    "collapsed": true
   },
   "outputs": [],
   "source": []
  }
 ],
 "metadata": {
  "anaconda-cloud": {},
  "kernelspec": {
   "display_name": "Python [default]",
   "language": "python",
   "name": "python3"
  },
  "language_info": {
   "codemirror_mode": {
    "name": "ipython",
    "version": 3
   },
   "file_extension": ".py",
   "mimetype": "text/x-python",
   "name": "python",
   "nbconvert_exporter": "python",
   "pygments_lexer": "ipython3",
   "version": "3.5.2"
  }
 },
 "nbformat": 4,
 "nbformat_minor": 0
}
